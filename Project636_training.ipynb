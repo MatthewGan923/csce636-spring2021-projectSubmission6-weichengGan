{
  "nbformat": 4,
  "nbformat_minor": 0,
  "metadata": {
    "colab": {
      "name": "Project636.ipynb",
      "provenance": [],
      "collapsed_sections": []
    },
    "kernelspec": {
      "display_name": "Python 3",
      "name": "python3"
    }
  },
  "cells": [
    {
      "cell_type": "markdown",
      "metadata": {
        "id": "X38L6tanrnrB"
      },
      "source": [
        "This is a project for detecting the action of falling"
      ]
    },
    {
      "cell_type": "code",
      "metadata": {
        "colab": {
          "base_uri": "https://localhost:8080/"
        },
        "id": "nZ3Ud9zLgOoQ",
        "outputId": "846cd262-a6fb-47c7-c9e9-4810e0994223"
      },
      "source": [
        "from google.colab import drive\n",
        "drive.mount('/content/drive')"
      ],
      "execution_count": 1,
      "outputs": [
        {
          "output_type": "stream",
          "text": [
            "Mounted at /content/drive\n"
          ],
          "name": "stdout"
        }
      ]
    },
    {
      "cell_type": "code",
      "metadata": {
        "id": "sZbwjAj3S1oe"
      },
      "source": [
        "from keras import models\n",
        "from keras import layers\n",
        "from keras import metrics\n",
        "from keras import optimizers\n",
        "from keras.layers import Dense, Dropout, Embedding, LSTM, Bidirectional\n",
        "import keras\n",
        "import numpy as np\n",
        "import json\n",
        "import os\n",
        "import csv\n",
        "import pandas as pd\n",
        "import subprocess\n",
        "import xgboost as xgb"
      ],
      "execution_count": 2,
      "outputs": []
    },
    {
      "cell_type": "markdown",
      "metadata": {
        "id": "7XjvbPlKAD6a"
      },
      "source": [
        "# New Section"
      ]
    },
    {
      "cell_type": "markdown",
      "metadata": {
        "id": "2IeZV8FD2Ueb"
      },
      "source": [
        "**Now we are cleaning all the data**"
      ]
    },
    {
      "cell_type": "code",
      "metadata": {
        "id": "IgbCxZCpS9MH"
      },
      "source": [
        "# now we read all the data\n",
        "dataPath = \"/content/drive/MyDrive/Colab Notebooks/data\""
      ],
      "execution_count": 3,
      "outputs": []
    },
    {
      "cell_type": "code",
      "metadata": {
        "id": "QgzTWECuGPSy"
      },
      "source": [
        "def readDataFrame(path, totalData, totalLabel):  \n",
        "  total_df = pd.read_csv(path, header=None)\n",
        "  label = total_df.iloc[:, 63]\n",
        "  totalLabel += label.to_list()\n",
        "  # now drop the label column\n",
        "  total_df = total_df.drop(total_df.columns[63], axis = 1)\n",
        "  for index, row in total_df.iterrows():\n",
        "    totalData.append(row.to_list())\n",
        "  return totalData, totalLabel"
      ],
      "execution_count": 4,
      "outputs": []
    },
    {
      "cell_type": "code",
      "metadata": {
        "id": "5cFYVruzHWXL"
      },
      "source": [
        "# now we read in all the data\n",
        "Data = []\n",
        "Label = []\n",
        "for itemPath in os.listdir(dataPath):\n",
        "  item = os.path.join(dataPath, itemPath)\n",
        "  Data, Label = readDataFrame(item, Data, Label)\n"
      ],
      "execution_count": 5,
      "outputs": []
    },
    {
      "cell_type": "code",
      "metadata": {
        "colab": {
          "base_uri": "https://localhost:8080/"
        },
        "id": "rkmczk-8IxDa",
        "outputId": "7ba3588d-a5d8-43d6-d6b1-cf8969bd9517"
      },
      "source": [
        "print(\"data length is \" + str(len(Data)))\n",
        "print(\"label length is \" + str(len(Label)))"
      ],
      "execution_count": 6,
      "outputs": [
        {
          "output_type": "stream",
          "text": [
            "data length is 56893\n",
            "label length is 56893\n"
          ],
          "name": "stdout"
        }
      ]
    },
    {
      "cell_type": "code",
      "metadata": {
        "colab": {
          "base_uri": "https://localhost:8080/"
        },
        "id": "FM0U3xy_JVcZ",
        "outputId": "a103c8f7-de15-422e-a19d-85b0aae325fa"
      },
      "source": [
        "print(\"non falling label: \" + str(Label.count(0)))\n",
        "print(\"falling label: \" + str(Label.count(1)))"
      ],
      "execution_count": 7,
      "outputs": [
        {
          "output_type": "stream",
          "text": [
            "non falling label: 53003\n",
            "falling label: 3890\n"
          ],
          "name": "stdout"
        }
      ]
    },
    {
      "cell_type": "code",
      "metadata": {
        "colab": {
          "base_uri": "https://localhost:8080/"
        },
        "id": "DRuBiaJ7Jd6x",
        "outputId": "d6e6e931-7fcf-470b-e54a-8437204780c7"
      },
      "source": [
        "# now we need to up-sampling to balance the data\n",
        "totalData = []\n",
        "for i in range(len(Data)):\n",
        "  totalData.append(Data[i])\n",
        "  totalData[i].append(Label[i])    \n",
        "df = pd.DataFrame.from_records(totalData)\n",
        "df = df.rename(columns={df.columns[63]: \"labels\"})\n",
        "fallDf = df[df['labels'] == 1]\n",
        "nonFallDf = df[df['labels'] == 0]\n",
        "from sklearn.utils import resample\n",
        "sampled_fallDf = resample(fallDf, replace = True, n_samples=len(nonFallDf))\n",
        "newData = pd.concat([nonFallDf, sampled_fallDf])\n",
        "newData.labels.value_counts()"
      ],
      "execution_count": 8,
      "outputs": [
        {
          "output_type": "execute_result",
          "data": {
            "text/plain": [
              "1    53003\n",
              "0    53003\n",
              "Name: labels, dtype: int64"
            ]
          },
          "metadata": {
            "tags": []
          },
          "execution_count": 8
        }
      ]
    },
    {
      "cell_type": "code",
      "metadata": {
        "colab": {
          "base_uri": "https://localhost:8080/"
        },
        "id": "4HCd6X0DQA_V",
        "outputId": "f01a8f0f-29fd-41b7-e7fe-9a8fd38c6081"
      },
      "source": [
        "# next we shuffle the data and split them\n",
        "totalData = newData.values\n",
        "np.random.shuffle(totalData)\n",
        "test_data = totalData[: len(totalData) // 9]\n",
        "train_data = totalData[len(totalData) // 9:]\n",
        "print(\"train: \" + str(len(train_data)))\n",
        "print(\"test: \" + str(len(test_data)))"
      ],
      "execution_count": 9,
      "outputs": [
        {
          "output_type": "stream",
          "text": [
            "train: 94228\n",
            "test: 11778\n"
          ],
          "name": "stdout"
        }
      ]
    },
    {
      "cell_type": "code",
      "metadata": {
        "id": "ruNlUJQrQyaA"
      },
      "source": [
        "# prepare all the training data and label\n",
        "from keras.layers import LSTM\n",
        "from keras import callbacks\n",
        "from keras import layers\n",
        "from keras.models import Sequential\n",
        "\n",
        "\n",
        "train_x = []\n",
        "train_y = []\n",
        "for data in train_data:\n",
        "  train_x.append(data[:63])\n",
        "  train_y.append(int(data[63]))\n",
        "train_x = np.array(train_x)\n",
        "train_x = train_x.reshape((len(train_x), 1, len(train_x[0])))\n",
        "train_y = np.array(train_y)"
      ],
      "execution_count": null,
      "outputs": []
    },
    {
      "cell_type": "code",
      "metadata": {
        "colab": {
          "base_uri": "https://localhost:8080/"
        },
        "id": "vFTX6olxTtbE",
        "outputId": "a306800a-8549-49f4-a54e-ecadabe57698"
      },
      "source": [
        "print(train_x.shape)\n",
        "print(train_y.shape)"
      ],
      "execution_count": null,
      "outputs": [
        {
          "output_type": "stream",
          "text": [
            "(94228, 1, 63)\n",
            "(94228,)\n"
          ],
          "name": "stdout"
        }
      ]
    },
    {
      "cell_type": "code",
      "metadata": {
        "id": "Hed9WRC4ejuJ"
      },
      "source": [
        "\n",
        "# function for plotting the results\n",
        "import matplotlib.pyplot as plt\n",
        "def plotting_training(history):\n",
        "  # Plot training & validation accuracy values\n",
        "  plt.plot(history.history['acc'])\n",
        "  plt.plot(history.history['val_acc'])\n",
        "  plt.title('Model accuracy')\n",
        "  plt.ylabel('Accuracy')\n",
        "  plt.xlabel('Epoch')\n",
        "  plt.legend(['Train', 'Test'])\n",
        "  plt.show()\n",
        "  # Plot training & validation loss values\n",
        "  loss = history.history['loss']\n",
        "  val_loss = history.history['val_loss']\n",
        "  epochs = range(1, len(loss) + 1)\n",
        "  plt.figure()\n",
        "  plt.plot(epochs, loss, 'bo', label=\"Train loss\")\n",
        "  plt.plot(epochs, val_loss, 'b', label='Validation loss')\n",
        "  plt.title('Training and validation loss')\n",
        "  plt.xlabel('epoch')\n",
        "  plt.ylabel('loss')\n",
        "  plt.legend()\n",
        "  plt.show()"
      ],
      "execution_count": null,
      "outputs": []
    },
    {
      "cell_type": "code",
      "metadata": {
        "id": "z8GaQntF5wTG"
      },
      "source": [
        "# this is the dynamic learning rate function\n",
        "def learningRate(epoch):\n",
        "  if epoch < 10:\n",
        "    return 0.001\n",
        "  else:\n",
        "    return 0.001 * np.exp(0.1 * (10 - epoch))"
      ],
      "execution_count": null,
      "outputs": []
    },
    {
      "cell_type": "code",
      "metadata": {
        "colab": {
          "base_uri": "https://localhost:8080/"
        },
        "id": "oCDn6SCb55Fj",
        "outputId": "16d2dff0-e6e7-4f46-8cc7-92c1ce1ddc0f"
      },
      "source": [
        "\n",
        "# we start with GRU\n",
        "model = Sequential()\n",
        "model.add(layers.Conv1D(32, 1, activation='relu', input_shape=(1, 63)))\n",
        "model.add(layers.MaxPool1D(1))\n",
        "model.add(layers.Conv1D(32, 1, activation='relu'))\n",
        "model.add(layers.GRU(32, dropout= 0.1, recurrent_dropout=0.5))\n",
        "model.add(layers.Dense(1, activation='sigmoid'))\n",
        "model.summary()\n",
        "model.compile(optimizer='rmsprop', loss='binary_crossentropy', metrics=['acc'])\n",
        "history = model.fit(train_x, train_y, epochs= 60, batch_size = 16, validation_split = 0.2, callbacks=[callbacks.EarlyStopping(monitor='acc', patience = 3), callbacks.LearningRateScheduler(learningRate)] )"
      ],
      "execution_count": null,
      "outputs": [
        {
          "output_type": "stream",
          "text": [
            "WARNING:tensorflow:Layer gru will not use cuDNN kernel since it doesn't meet the cuDNN kernel criteria. It will use generic GPU kernel as fallback when running on GPU\n",
            "Model: \"sequential\"\n",
            "_________________________________________________________________\n",
            "Layer (type)                 Output Shape              Param #   \n",
            "=================================================================\n",
            "conv1d (Conv1D)              (None, 1, 32)             2048      \n",
            "_________________________________________________________________\n",
            "max_pooling1d (MaxPooling1D) (None, 1, 32)             0         \n",
            "_________________________________________________________________\n",
            "conv1d_1 (Conv1D)            (None, 1, 32)             1056      \n",
            "_________________________________________________________________\n",
            "gru (GRU)                    (None, 32)                6336      \n",
            "_________________________________________________________________\n",
            "dense (Dense)                (None, 1)                 33        \n",
            "=================================================================\n",
            "Total params: 9,473\n",
            "Trainable params: 9,473\n",
            "Non-trainable params: 0\n",
            "_________________________________________________________________\n",
            "Epoch 1/60\n",
            "4712/4712 [==============================] - 57s 8ms/step - loss: 0.5591 - acc: 0.6950 - val_loss: 0.4025 - val_acc: 0.8154\n",
            "Epoch 2/60\n",
            "4712/4712 [==============================] - 39s 8ms/step - loss: 0.3945 - acc: 0.8237 - val_loss: 0.3746 - val_acc: 0.8289\n",
            "Epoch 3/60\n",
            "4712/4712 [==============================] - 39s 8ms/step - loss: 0.3317 - acc: 0.8574 - val_loss: 0.4028 - val_acc: 0.8318\n",
            "Epoch 4/60\n",
            "4712/4712 [==============================] - 39s 8ms/step - loss: 0.2952 - acc: 0.8748 - val_loss: 0.2703 - val_acc: 0.8882\n",
            "Epoch 5/60\n",
            "4712/4712 [==============================] - 39s 8ms/step - loss: 0.2748 - acc: 0.8863 - val_loss: 0.2432 - val_acc: 0.9018\n",
            "Epoch 6/60\n",
            "4712/4712 [==============================] - 39s 8ms/step - loss: 0.2514 - acc: 0.8972 - val_loss: 0.2422 - val_acc: 0.9006\n",
            "Epoch 7/60\n",
            "4712/4712 [==============================] - 39s 8ms/step - loss: 0.2395 - acc: 0.9034 - val_loss: 0.2661 - val_acc: 0.8868\n",
            "Epoch 8/60\n",
            "4712/4712 [==============================] - 39s 8ms/step - loss: 0.2339 - acc: 0.9077 - val_loss: 0.2214 - val_acc: 0.9136\n",
            "Epoch 9/60\n",
            "4712/4712 [==============================] - 39s 8ms/step - loss: 0.2265 - acc: 0.9107 - val_loss: 0.2235 - val_acc: 0.9113\n",
            "Epoch 10/60\n",
            "4712/4712 [==============================] - 39s 8ms/step - loss: 0.2204 - acc: 0.9125 - val_loss: 0.2026 - val_acc: 0.9231\n",
            "Epoch 11/60\n",
            "4712/4712 [==============================] - 39s 8ms/step - loss: 0.2092 - acc: 0.9185 - val_loss: 0.1754 - val_acc: 0.9337\n",
            "Epoch 12/60\n",
            "4712/4712 [==============================] - 39s 8ms/step - loss: 0.1969 - acc: 0.9254 - val_loss: 0.2631 - val_acc: 0.8959\n",
            "Epoch 13/60\n",
            "4712/4712 [==============================] - 39s 8ms/step - loss: 0.1843 - acc: 0.9308 - val_loss: 0.1618 - val_acc: 0.9429\n",
            "Epoch 14/60\n",
            "4712/4712 [==============================] - 39s 8ms/step - loss: 0.1793 - acc: 0.9324 - val_loss: 0.2100 - val_acc: 0.9165\n",
            "Epoch 15/60\n",
            "4712/4712 [==============================] - 39s 8ms/step - loss: 0.1685 - acc: 0.9382 - val_loss: 0.1741 - val_acc: 0.9380\n",
            "Epoch 16/60\n",
            "4712/4712 [==============================] - 39s 8ms/step - loss: 0.1638 - acc: 0.9399 - val_loss: 0.1740 - val_acc: 0.9361\n",
            "Epoch 17/60\n",
            "4712/4712 [==============================] - 39s 8ms/step - loss: 0.1594 - acc: 0.9417 - val_loss: 0.1535 - val_acc: 0.9452\n",
            "Epoch 18/60\n",
            "4712/4712 [==============================] - 39s 8ms/step - loss: 0.1483 - acc: 0.9468 - val_loss: 0.1752 - val_acc: 0.9376\n",
            "Epoch 19/60\n",
            "4712/4712 [==============================] - 39s 8ms/step - loss: 0.1465 - acc: 0.9482 - val_loss: 0.1487 - val_acc: 0.9458\n",
            "Epoch 20/60\n",
            "4712/4712 [==============================] - 40s 8ms/step - loss: 0.1386 - acc: 0.9511 - val_loss: 0.1399 - val_acc: 0.9512\n",
            "Epoch 21/60\n",
            "4712/4712 [==============================] - 39s 8ms/step - loss: 0.1357 - acc: 0.9519 - val_loss: 0.1329 - val_acc: 0.9547\n",
            "Epoch 22/60\n",
            "4712/4712 [==============================] - 39s 8ms/step - loss: 0.1350 - acc: 0.9532 - val_loss: 0.1400 - val_acc: 0.9535\n",
            "Epoch 23/60\n",
            "4712/4712 [==============================] - 39s 8ms/step - loss: 0.1307 - acc: 0.9548 - val_loss: 0.1367 - val_acc: 0.9525\n",
            "Epoch 24/60\n",
            "4712/4712 [==============================] - 39s 8ms/step - loss: 0.1272 - acc: 0.9557 - val_loss: 0.1292 - val_acc: 0.9570\n",
            "Epoch 25/60\n",
            "4712/4712 [==============================] - 39s 8ms/step - loss: 0.1224 - acc: 0.9570 - val_loss: 0.1282 - val_acc: 0.9562\n",
            "Epoch 26/60\n",
            "4712/4712 [==============================] - 39s 8ms/step - loss: 0.1163 - acc: 0.9608 - val_loss: 0.1370 - val_acc: 0.9539\n",
            "Epoch 27/60\n",
            "4712/4712 [==============================] - 39s 8ms/step - loss: 0.1159 - acc: 0.9615 - val_loss: 0.1267 - val_acc: 0.9572\n",
            "Epoch 28/60\n",
            "4712/4712 [==============================] - 39s 8ms/step - loss: 0.1118 - acc: 0.9630 - val_loss: 0.1153 - val_acc: 0.9617\n",
            "Epoch 29/60\n",
            "4712/4712 [==============================] - 39s 8ms/step - loss: 0.1102 - acc: 0.9626 - val_loss: 0.1548 - val_acc: 0.9483\n",
            "Epoch 30/60\n",
            "4712/4712 [==============================] - 39s 8ms/step - loss: 0.1114 - acc: 0.9626 - val_loss: 0.1166 - val_acc: 0.9623\n",
            "Epoch 31/60\n",
            "4712/4712 [==============================] - 39s 8ms/step - loss: 0.1082 - acc: 0.9650 - val_loss: 0.1198 - val_acc: 0.9609\n",
            "Epoch 32/60\n",
            "4712/4712 [==============================] - 39s 8ms/step - loss: 0.1059 - acc: 0.9650 - val_loss: 0.1240 - val_acc: 0.9595\n",
            "Epoch 33/60\n",
            "4712/4712 [==============================] - 38s 8ms/step - loss: 0.1086 - acc: 0.9640 - val_loss: 0.1190 - val_acc: 0.9616\n",
            "Epoch 34/60\n",
            "4712/4712 [==============================] - 38s 8ms/step - loss: 0.1048 - acc: 0.9654 - val_loss: 0.1155 - val_acc: 0.9628\n",
            "Epoch 35/60\n",
            "4712/4712 [==============================] - 39s 8ms/step - loss: 0.1038 - acc: 0.9661 - val_loss: 0.1122 - val_acc: 0.9633\n",
            "Epoch 36/60\n",
            "4712/4712 [==============================] - 39s 8ms/step - loss: 0.0998 - acc: 0.9673 - val_loss: 0.1140 - val_acc: 0.9626\n",
            "Epoch 37/60\n",
            "4712/4712 [==============================] - 38s 8ms/step - loss: 0.1031 - acc: 0.9662 - val_loss: 0.1107 - val_acc: 0.9642\n",
            "Epoch 38/60\n",
            "4712/4712 [==============================] - 39s 8ms/step - loss: 0.1013 - acc: 0.9672 - val_loss: 0.1168 - val_acc: 0.9611\n",
            "Epoch 39/60\n",
            "4712/4712 [==============================] - 38s 8ms/step - loss: 0.0997 - acc: 0.9673 - val_loss: 0.1119 - val_acc: 0.9645\n",
            "Epoch 40/60\n",
            "4712/4712 [==============================] - 38s 8ms/step - loss: 0.1037 - acc: 0.9668 - val_loss: 0.1108 - val_acc: 0.9646\n",
            "Epoch 41/60\n",
            "4712/4712 [==============================] - 39s 8ms/step - loss: 0.0992 - acc: 0.9676 - val_loss: 0.1109 - val_acc: 0.9644\n",
            "Epoch 42/60\n",
            "4712/4712 [==============================] - 38s 8ms/step - loss: 0.0976 - acc: 0.9692 - val_loss: 0.1126 - val_acc: 0.9630\n",
            "Epoch 43/60\n",
            "4712/4712 [==============================] - 39s 8ms/step - loss: 0.0951 - acc: 0.9696 - val_loss: 0.1063 - val_acc: 0.9650\n",
            "Epoch 44/60\n",
            "4712/4712 [==============================] - 38s 8ms/step - loss: 0.0980 - acc: 0.9684 - val_loss: 0.1102 - val_acc: 0.9641\n",
            "Epoch 45/60\n",
            "4712/4712 [==============================] - 38s 8ms/step - loss: 0.0977 - acc: 0.9699 - val_loss: 0.1066 - val_acc: 0.9641\n",
            "Epoch 46/60\n",
            "4712/4712 [==============================] - 39s 8ms/step - loss: 0.0938 - acc: 0.9696 - val_loss: 0.1104 - val_acc: 0.9646\n",
            "Epoch 47/60\n",
            "4712/4712 [==============================] - 38s 8ms/step - loss: 0.0927 - acc: 0.9714 - val_loss: 0.1082 - val_acc: 0.9649\n"
          ],
          "name": "stdout"
        }
      ]
    },
    {
      "cell_type": "code",
      "metadata": {
        "colab": {
          "base_uri": "https://localhost:8080/",
          "height": 607
        },
        "id": "qmicTF-68nSc",
        "outputId": "52c991eb-9809-49b9-e037-4e672442fe49"
      },
      "source": [
        "plotting_training(history)\n",
        "test_x = []\n",
        "test_y = []\n",
        "for data in test_data:\n",
        "  test_x.append(data[:63])\n",
        "  test_y.append(int(data[63]))\n",
        "test_x = np.array(test_x)\n",
        "test_x = test_x.reshape((len(test_x), 1, len(test_x[0])))\n",
        "test_y = np.array(test_y)\n",
        "results = model.evaluate(test_x, test_y, batch_size = 16)\n",
        "print(\"test loss, test acc: \", results)"
      ],
      "execution_count": null,
      "outputs": [
        {
          "output_type": "display_data",
          "data": {
            "image/png": "[encoded data removed]",
            "text/plain": [
              "<Figure size 432x288 with 1 Axes>"
            ]
          },
          "metadata": {
            "tags": [],
            "needs_background": "light"
          }
        },
        {
          "output_type": "display_data",
          "data": {
            "image/png": "[encoded data removed]",
            "text/plain": [
              "<Figure size 432x288 with 1 Axes>"
            ]
          },
          "metadata": {
            "tags": [],
            "needs_background": "light"
          }
        },
        {
          "output_type": "stream",
          "text": [
            "737/737 [==============================] - 2s 2ms/step - loss: 0.1010 - acc: 0.9672\n",
            "test loss, test acc:  [0.1010069027543068, 0.967227041721344]\n"
          ],
          "name": "stdout"
        }
      ]
    },
    {
      "cell_type": "code",
      "metadata": {
        "id": "GQUS8QrNR6RC"
      },
      "source": [
        "model.save(\"/content/drive/MyDrive/Colab Notebooks/projectModelGRU.h5\")"
      ],
      "execution_count": null,
      "outputs": []
    },
    {
      "cell_type": "code",
      "metadata": {
        "colab": {
          "base_uri": "https://localhost:8080/"
        },
        "id": "7S4a4-w8Xxbn",
        "outputId": "1d62b931-dbd8-4b55-9a2f-b71806cf5bd3"
      },
      "source": [
        "\n",
        "from keras.models import Sequential\n",
        "from keras.layers import Embedding, Dense\n",
        "model = Sequential()\n",
        "model.add(LSTM(32, input_shape=(1, 63), return_sequences=True))\n",
        "model.add(LSTM(16))\n",
        "model.add(Dense(1, activation='sigmoid'))\n",
        "model.compile(optimizer='rmsprop', loss='binary_crossentropy', metrics = ['acc'])\n",
        "history = model.fit(train_x, train_y, epochs= 60, batch_size = 16, validation_split = 0.2, callbacks=[callbacks.EarlyStopping(monitor='val_loss', patience = 5), callbacks.LearningRateScheduler(learningRate)] )"
      ],
      "execution_count": null,
      "outputs": [
        {
          "output_type": "stream",
          "text": [
            "Epoch 1/60\n",
            "4712/4712 [==============================] - 26s 5ms/step - loss: 0.5872 - acc: 0.6758 - val_loss: 0.5525 - val_acc: 0.7234\n",
            "Epoch 2/60\n",
            "4712/4712 [==============================] - 22s 5ms/step - loss: 0.4341 - acc: 0.8007 - val_loss: 0.5143 - val_acc: 0.7448\n",
            "Epoch 3/60\n",
            "4712/4712 [==============================] - 22s 5ms/step - loss: 0.3786 - acc: 0.8298 - val_loss: 0.3324 - val_acc: 0.8614\n",
            "Epoch 4/60\n",
            "4712/4712 [==============================] - 22s 5ms/step - loss: 0.3353 - acc: 0.8541 - val_loss: 0.3709 - val_acc: 0.8333\n",
            "Epoch 5/60\n",
            "4712/4712 [==============================] - 23s 5ms/step - loss: 0.3019 - acc: 0.8718 - val_loss: 0.3921 - val_acc: 0.8272\n",
            "Epoch 6/60\n",
            "4712/4712 [==============================] - 23s 5ms/step - loss: 0.2754 - acc: 0.8860 - val_loss: 0.2494 - val_acc: 0.8996\n",
            "Epoch 7/60\n",
            "4712/4712 [==============================] - 22s 5ms/step - loss: 0.2553 - acc: 0.8953 - val_loss: 0.2351 - val_acc: 0.9052\n",
            "Epoch 8/60\n",
            "4712/4712 [==============================] - 23s 5ms/step - loss: 0.2368 - acc: 0.9033 - val_loss: 0.2288 - val_acc: 0.9044\n",
            "Epoch 9/60\n",
            "4712/4712 [==============================] - 23s 5ms/step - loss: 0.2234 - acc: 0.9105 - val_loss: 0.3748 - val_acc: 0.8488\n",
            "Epoch 10/60\n",
            "4712/4712 [==============================] - 23s 5ms/step - loss: 0.2078 - acc: 0.9168 - val_loss: 0.1883 - val_acc: 0.9268\n",
            "Epoch 11/60\n",
            "4712/4712 [==============================] - 23s 5ms/step - loss: 0.1975 - acc: 0.9211 - val_loss: 0.2035 - val_acc: 0.9166\n",
            "Epoch 12/60\n",
            "4712/4712 [==============================] - 23s 5ms/step - loss: 0.1832 - acc: 0.9289 - val_loss: 0.1679 - val_acc: 0.9381\n",
            "Epoch 13/60\n",
            "4712/4712 [==============================] - 23s 5ms/step - loss: 0.1694 - acc: 0.9351 - val_loss: 0.1633 - val_acc: 0.9368\n",
            "Epoch 14/60\n",
            "4712/4712 [==============================] - 23s 5ms/step - loss: 0.1613 - acc: 0.9400 - val_loss: 0.1462 - val_acc: 0.9438\n",
            "Epoch 15/60\n",
            "4712/4712 [==============================] - 23s 5ms/step - loss: 0.1518 - acc: 0.9434 - val_loss: 0.1892 - val_acc: 0.9221\n",
            "Epoch 16/60\n",
            "4712/4712 [==============================] - 23s 5ms/step - loss: 0.1409 - acc: 0.9478 - val_loss: 0.1544 - val_acc: 0.9431\n",
            "Epoch 17/60\n",
            "4712/4712 [==============================] - 23s 5ms/step - loss: 0.1370 - acc: 0.9505 - val_loss: 0.1504 - val_acc: 0.9453\n",
            "Epoch 18/60\n",
            "4712/4712 [==============================] - 22s 5ms/step - loss: 0.1347 - acc: 0.9510 - val_loss: 0.1352 - val_acc: 0.9513\n",
            "Epoch 19/60\n",
            "4712/4712 [==============================] - 23s 5ms/step - loss: 0.1258 - acc: 0.9545 - val_loss: 0.1561 - val_acc: 0.9371\n",
            "Epoch 20/60\n",
            "4712/4712 [==============================] - 23s 5ms/step - loss: 0.1180 - acc: 0.9575 - val_loss: 0.1285 - val_acc: 0.9522\n",
            "Epoch 21/60\n",
            "4712/4712 [==============================] - 23s 5ms/step - loss: 0.1180 - acc: 0.9583 - val_loss: 0.1487 - val_acc: 0.9463\n",
            "Epoch 22/60\n",
            "4712/4712 [==============================] - 22s 5ms/step - loss: 0.1131 - acc: 0.9604 - val_loss: 0.1159 - val_acc: 0.9588\n",
            "Epoch 23/60\n",
            "4712/4712 [==============================] - 23s 5ms/step - loss: 0.1142 - acc: 0.9604 - val_loss: 0.1156 - val_acc: 0.9603\n",
            "Epoch 24/60\n",
            "4712/4712 [==============================] - 23s 5ms/step - loss: 0.1075 - acc: 0.9629 - val_loss: 0.1112 - val_acc: 0.9618\n",
            "Epoch 25/60\n",
            "4712/4712 [==============================] - 23s 5ms/step - loss: 0.1046 - acc: 0.9642 - val_loss: 0.1175 - val_acc: 0.9613\n",
            "Epoch 26/60\n",
            "4712/4712 [==============================] - 23s 5ms/step - loss: 0.1024 - acc: 0.9644 - val_loss: 0.1092 - val_acc: 0.9623\n",
            "Epoch 27/60\n",
            "4712/4712 [==============================] - 22s 5ms/step - loss: 0.1013 - acc: 0.9651 - val_loss: 0.1131 - val_acc: 0.9599\n",
            "Epoch 28/60\n",
            "4712/4712 [==============================] - 23s 5ms/step - loss: 0.1017 - acc: 0.9650 - val_loss: 0.1128 - val_acc: 0.9620\n",
            "Epoch 29/60\n",
            "4712/4712 [==============================] - 22s 5ms/step - loss: 0.1005 - acc: 0.9663 - val_loss: 0.1099 - val_acc: 0.9619\n",
            "Epoch 30/60\n",
            "4712/4712 [==============================] - 23s 5ms/step - loss: 0.1009 - acc: 0.9661 - val_loss: 0.1060 - val_acc: 0.9634\n",
            "Epoch 31/60\n",
            "4712/4712 [==============================] - 23s 5ms/step - loss: 0.0961 - acc: 0.9680 - val_loss: 0.1112 - val_acc: 0.9620\n",
            "Epoch 32/60\n",
            "4712/4712 [==============================] - 23s 5ms/step - loss: 0.0941 - acc: 0.9686 - val_loss: 0.1094 - val_acc: 0.9642\n",
            "Epoch 33/60\n",
            "4712/4712 [==============================] - 23s 5ms/step - loss: 0.0951 - acc: 0.9675 - val_loss: 0.1055 - val_acc: 0.9641\n",
            "Epoch 34/60\n",
            "4712/4712 [==============================] - 22s 5ms/step - loss: 0.0934 - acc: 0.9690 - val_loss: 0.1065 - val_acc: 0.9654\n",
            "Epoch 35/60\n",
            "4712/4712 [==============================] - 22s 5ms/step - loss: 0.0942 - acc: 0.9682 - val_loss: 0.1052 - val_acc: 0.9657\n",
            "Epoch 36/60\n",
            "4712/4712 [==============================] - 23s 5ms/step - loss: 0.0917 - acc: 0.9691 - val_loss: 0.1048 - val_acc: 0.9648\n",
            "Epoch 37/60\n",
            "4712/4712 [==============================] - 23s 5ms/step - loss: 0.0921 - acc: 0.9691 - val_loss: 0.1057 - val_acc: 0.9643\n",
            "Epoch 38/60\n",
            "4712/4712 [==============================] - 23s 5ms/step - loss: 0.0908 - acc: 0.9698 - val_loss: 0.1052 - val_acc: 0.9633\n",
            "Epoch 39/60\n",
            "4712/4712 [==============================] - 23s 5ms/step - loss: 0.0920 - acc: 0.9689 - val_loss: 0.1052 - val_acc: 0.9648\n",
            "Epoch 40/60\n",
            "4712/4712 [==============================] - 23s 5ms/step - loss: 0.0913 - acc: 0.9699 - val_loss: 0.1043 - val_acc: 0.9639\n",
            "Epoch 41/60\n",
            "4712/4712 [==============================] - 23s 5ms/step - loss: 0.0906 - acc: 0.9707 - val_loss: 0.1027 - val_acc: 0.9657\n",
            "Epoch 42/60\n",
            "4712/4712 [==============================] - 23s 5ms/step - loss: 0.0904 - acc: 0.9699 - val_loss: 0.1014 - val_acc: 0.9660\n",
            "Epoch 43/60\n",
            "4712/4712 [==============================] - 23s 5ms/step - loss: 0.0904 - acc: 0.9704 - val_loss: 0.1011 - val_acc: 0.9657\n",
            "Epoch 44/60\n",
            "4712/4712 [==============================] - 23s 5ms/step - loss: 0.0852 - acc: 0.9715 - val_loss: 0.1023 - val_acc: 0.9673\n",
            "Epoch 45/60\n",
            "4712/4712 [==============================] - 23s 5ms/step - loss: 0.0884 - acc: 0.9718 - val_loss: 0.1006 - val_acc: 0.9656\n",
            "Epoch 46/60\n",
            "4712/4712 [==============================] - 23s 5ms/step - loss: 0.0887 - acc: 0.9702 - val_loss: 0.1015 - val_acc: 0.9663\n",
            "Epoch 47/60\n",
            "4712/4712 [==============================] - 23s 5ms/step - loss: 0.0890 - acc: 0.9706 - val_loss: 0.1011 - val_acc: 0.9676\n",
            "Epoch 48/60\n",
            "4712/4712 [==============================] - 23s 5ms/step - loss: 0.0896 - acc: 0.9709 - val_loss: 0.1002 - val_acc: 0.9669\n",
            "Epoch 49/60\n",
            "4712/4712 [==============================] - 23s 5ms/step - loss: 0.0898 - acc: 0.9703 - val_loss: 0.1010 - val_acc: 0.9673\n",
            "Epoch 50/60\n",
            "4712/4712 [==============================] - 23s 5ms/step - loss: 0.0871 - acc: 0.9714 - val_loss: 0.1010 - val_acc: 0.9667\n",
            "Epoch 51/60\n",
            "4712/4712 [==============================] - 23s 5ms/step - loss: 0.0894 - acc: 0.9702 - val_loss: 0.1003 - val_acc: 0.9664\n",
            "Epoch 52/60\n",
            "4712/4712 [==============================] - 23s 5ms/step - loss: 0.0872 - acc: 0.9718 - val_loss: 0.1006 - val_acc: 0.9669\n",
            "Epoch 53/60\n",
            "4712/4712 [==============================] - 23s 5ms/step - loss: 0.0896 - acc: 0.9705 - val_loss: 0.1005 - val_acc: 0.9663\n"
          ],
          "name": "stdout"
        }
      ]
    },
    {
      "cell_type": "code",
      "metadata": {
        "id": "YZfiJP0BePXv"
      },
      "source": [
        "model.save('/content/drive/MyDrive/Colab Notebooks/projectModelLSTM.h5')"
      ],
      "execution_count": null,
      "outputs": []
    },
    {
      "cell_type": "code",
      "metadata": {
        "colab": {
          "base_uri": "https://localhost:8080/",
          "height": 573
        },
        "id": "5A-Hcychb5hn",
        "outputId": "3529626c-bb37-42c5-d16d-1b14c408a55e"
      },
      "source": [
        "plotting_training(history)"
      ],
      "execution_count": null,
      "outputs": [
        {
          "output_type": "display_data",
          "data": {
            "image/png": "[encoded data removed]",
            "text/plain": [
              "<Figure size 432x288 with 1 Axes>"
            ]
          },
          "metadata": {
            "tags": [],
            "needs_background": "light"
          }
        },
        {
          "output_type": "display_data",
          "data": {
            "image/png": "[encoded data removed]",
            "text/plain": [
              "<Figure size 432x288 with 1 Axes>"
            ]
          },
          "metadata": {
            "tags": [],
            "needs_background": "light"
          }
        }
      ]
    },
    {
      "cell_type": "code",
      "metadata": {
        "id": "tA1vX5M1ZcAc"
      },
      "source": [
        "test_x = []\n",
        "test_y = []\n",
        "for data in test_data:\n",
        "  test_x.append(data[:63])\n",
        "  test_y.append(int(data[63]))\n",
        "test_x = np.array(test_x)\n",
        "test_x = test_x.reshape((len(test_x), 1, len(test_x[0])))\n",
        "test_y = np.array(test_y)"
      ],
      "execution_count": null,
      "outputs": []
    },
    {
      "cell_type": "code",
      "metadata": {
        "colab": {
          "base_uri": "https://localhost:8080/"
        },
        "id": "q_9UE1jCbn9t",
        "outputId": "bed7c1a5-9026-44b5-e8de-faab9c0fa462"
      },
      "source": [
        "results = model.evaluate(test_x, test_y, batch_size = 16)\n",
        "print(\"test loss, test acc: \", results)\n"
      ],
      "execution_count": null,
      "outputs": [
        {
          "output_type": "stream",
          "text": [
            "737/737 [==============================] - 2s 2ms/step - loss: 0.0961 - acc: 0.9673\n",
            "test loss, test acc:  [0.09614406526088715, 0.9673119187355042]\n"
          ],
          "name": "stdout"
        }
      ]
    },
    {
      "cell_type": "code",
      "metadata": {
        "colab": {
          "base_uri": "https://localhost:8080/",
          "height": 1000
        },
        "id": "mcAqiBfucEoW",
        "outputId": "97c07e2c-cd23-4db3-f291-2ec0aac3cba0"
      },
      "source": [
        "\n",
        "# now we use the bidirectional\n",
        "model = Sequential()\n",
        "model.add(Bidirectional(LSTM(32, return_sequences=True), input_shape=(1, 63)))\n",
        "model.add(Bidirectional(LSTM(16, return_sequences=True)))\n",
        "model.add(Dense(1, activation='sigmoid'))\n",
        "model.compile(optimizer='rmsprop', loss='binary_crossentropy', metrics = ['acc'])\n",
        "history = model.fit(train_x, train_y, epochs= 60, batch_size = 16, validation_split = 0.2, callbacks=[callbacks.EarlyStopping(monitor='val_loss', patience = 3), callbacks.LearningRateScheduler(learningRate)] )\n",
        "\n",
        "plotting_training(history)"
      ],
      "execution_count": null,
      "outputs": [
        {
          "output_type": "stream",
          "text": [
            "Epoch 1/60\n",
            "4712/4712 [==============================] - 43s 8ms/step - loss: 0.5734 - acc: 0.6843 - val_loss: 0.4296 - val_acc: 0.8011\n",
            "Epoch 2/60\n",
            "4712/4712 [==============================] - 37s 8ms/step - loss: 0.4239 - acc: 0.8037 - val_loss: 0.4276 - val_acc: 0.7909\n",
            "Epoch 3/60\n",
            "4712/4712 [==============================] - 37s 8ms/step - loss: 0.3618 - acc: 0.8394 - val_loss: 0.3508 - val_acc: 0.8364\n",
            "Epoch 4/60\n",
            "4712/4712 [==============================] - 37s 8ms/step - loss: 0.3172 - acc: 0.8634 - val_loss: 0.3215 - val_acc: 0.8630\n",
            "Epoch 5/60\n",
            "4712/4712 [==============================] - 37s 8ms/step - loss: 0.2744 - acc: 0.8867 - val_loss: 0.2370 - val_acc: 0.9079\n",
            "Epoch 6/60\n",
            "4712/4712 [==============================] - 37s 8ms/step - loss: 0.2506 - acc: 0.8963 - val_loss: 0.3651 - val_acc: 0.8361\n",
            "Epoch 7/60\n",
            "4712/4712 [==============================] - 37s 8ms/step - loss: 0.2265 - acc: 0.9075 - val_loss: 0.2268 - val_acc: 0.9056\n",
            "Epoch 8/60\n",
            "4712/4712 [==============================] - 37s 8ms/step - loss: 0.2073 - acc: 0.9159 - val_loss: 0.2354 - val_acc: 0.9060\n",
            "Epoch 9/60\n",
            "4712/4712 [==============================] - 37s 8ms/step - loss: 0.1846 - acc: 0.9265 - val_loss: 0.1988 - val_acc: 0.9161\n",
            "Epoch 10/60\n",
            "4712/4712 [==============================] - 37s 8ms/step - loss: 0.1701 - acc: 0.9338 - val_loss: 0.1931 - val_acc: 0.9252\n",
            "Epoch 11/60\n",
            "4712/4712 [==============================] - 37s 8ms/step - loss: 0.1541 - acc: 0.9405 - val_loss: 0.2602 - val_acc: 0.8879\n",
            "Epoch 12/60\n",
            "4712/4712 [==============================] - 37s 8ms/step - loss: 0.1421 - acc: 0.9473 - val_loss: 0.1354 - val_acc: 0.9494\n",
            "Epoch 13/60\n",
            "4712/4712 [==============================] - 37s 8ms/step - loss: 0.1231 - acc: 0.9543 - val_loss: 0.1256 - val_acc: 0.9561\n",
            "Epoch 14/60\n",
            "4712/4712 [==============================] - 37s 8ms/step - loss: 0.1154 - acc: 0.9587 - val_loss: 0.0996 - val_acc: 0.9682\n",
            "Epoch 15/60\n",
            "4712/4712 [==============================] - 37s 8ms/step - loss: 0.1040 - acc: 0.9627 - val_loss: 0.0981 - val_acc: 0.9668\n",
            "Epoch 16/60\n",
            "4712/4712 [==============================] - 37s 8ms/step - loss: 0.0968 - acc: 0.9655 - val_loss: 0.1040 - val_acc: 0.9635\n",
            "Epoch 17/60\n",
            "4712/4712 [==============================] - 37s 8ms/step - loss: 0.0880 - acc: 0.9692 - val_loss: 0.1035 - val_acc: 0.9653\n",
            "Epoch 18/60\n",
            "4712/4712 [==============================] - 37s 8ms/step - loss: 0.0858 - acc: 0.9702 - val_loss: 0.0814 - val_acc: 0.9738\n",
            "Epoch 19/60\n",
            "4712/4712 [==============================] - 37s 8ms/step - loss: 0.0791 - acc: 0.9728 - val_loss: 0.0964 - val_acc: 0.9649\n",
            "Epoch 20/60\n",
            "4712/4712 [==============================] - 37s 8ms/step - loss: 0.0753 - acc: 0.9753 - val_loss: 0.0815 - val_acc: 0.9724\n",
            "Epoch 21/60\n",
            "4712/4712 [==============================] - 37s 8ms/step - loss: 0.0722 - acc: 0.9762 - val_loss: 0.0808 - val_acc: 0.9740\n",
            "Epoch 22/60\n",
            "4712/4712 [==============================] - 37s 8ms/step - loss: 0.0689 - acc: 0.9773 - val_loss: 0.0804 - val_acc: 0.9746\n",
            "Epoch 23/60\n",
            "4712/4712 [==============================] - 37s 8ms/step - loss: 0.0662 - acc: 0.9785 - val_loss: 0.0712 - val_acc: 0.9761\n",
            "Epoch 24/60\n",
            "4712/4712 [==============================] - 37s 8ms/step - loss: 0.0633 - acc: 0.9797 - val_loss: 0.0778 - val_acc: 0.9735\n",
            "Epoch 25/60\n",
            "4712/4712 [==============================] - 37s 8ms/step - loss: 0.0624 - acc: 0.9801 - val_loss: 0.0674 - val_acc: 0.9778\n",
            "Epoch 26/60\n",
            "4712/4712 [==============================] - 37s 8ms/step - loss: 0.0614 - acc: 0.9805 - val_loss: 0.0828 - val_acc: 0.9720\n",
            "Epoch 27/60\n",
            "4712/4712 [==============================] - 37s 8ms/step - loss: 0.0585 - acc: 0.9820 - val_loss: 0.0694 - val_acc: 0.9771\n",
            "Epoch 28/60\n",
            "4712/4712 [==============================] - 37s 8ms/step - loss: 0.0592 - acc: 0.9816 - val_loss: 0.0756 - val_acc: 0.9751\n"
          ],
          "name": "stdout"
        },
        {
          "output_type": "display_data",
          "data": {
            "image/png": "[encoded data removed]",
            "text/plain": [
              "<Figure size 432x288 with 1 Axes>"
            ]
          },
          "metadata": {
            "tags": [],
            "needs_background": "light"
          }
        },
        {
          "output_type": "display_data",
          "data": {
            "image/png": "[encoded data removed]",
            "text/plain": [
              "<Figure size 432x288 with 1 Axes>"
            ]
          },
          "metadata": {
            "tags": [],
            "needs_background": "light"
          }
        }
      ]
    },
    {
      "cell_type": "code",
      "metadata": {
        "colab": {
          "base_uri": "https://localhost:8080/"
        },
        "id": "kgje3BLdeuyP",
        "outputId": "2ce7ed95-534b-4789-90b4-4882c06d3cdf"
      },
      "source": [
        "results = model.evaluate(test_x, test_y, batch_size = 16)\n",
        "print(\"test loss, test acc: \", results)\n",
        "model.save(\"/content/drive/MyDrive/Colab Notebooks/projectModelBILSTM.h5\")"
      ],
      "execution_count": null,
      "outputs": [
        {
          "output_type": "stream",
          "text": [
            "737/737 [==============================] - 3s 3ms/step - loss: 0.0745 - acc: 0.9761\n",
            "test loss, test acc:  [0.07452072948217392, 0.9761419892311096]\n"
          ],
          "name": "stdout"
        }
      ]
    },
    {
      "cell_type": "code",
      "metadata": {
        "colab": {
          "base_uri": "https://localhost:8080/"
        },
        "id": "NVhbnxU-pozA",
        "outputId": "3677817c-63bf-40ff-95c1-5fe4045e59a5"
      },
      "source": [
        "# next we try the CNN\n",
        "#create model\n",
        "# we first reshape our data\n",
        "train_x = []\n",
        "train_y = []\n",
        "for data in train_data:\n",
        "  train_x.append(data[:63])\n",
        "  train_y.append(int(data[63]))\n",
        "train_x = np.array(train_x)\n",
        "train_x = train_x.reshape((len(train_x), 3, int(len(train_x[0])/3), 1))\n",
        "train_y = np.array(train_y)\n",
        "print(\"shape of input data: \", train_x.shape)\n",
        "\n",
        "test_x = []\n",
        "test_y = []\n",
        "for data in test_data:\n",
        "  test_x.append(data[:63])\n",
        "  test_y.append(int(data[63]))\n",
        "test_x = np.array(test_x)\n",
        "test_x = test_x.reshape((len(test_x), 3, int(len(test_x[0])/3), 1))\n",
        "test_y = np.array(test_y)"
      ],
      "execution_count": null,
      "outputs": [
        {
          "output_type": "stream",
          "text": [
            "shape of input data:  (94228, 3, 21, 1)\n"
          ],
          "name": "stdout"
        }
      ]
    },
    {
      "cell_type": "code",
      "metadata": {
        "colab": {
          "base_uri": "https://localhost:8080/",
          "height": 1000
        },
        "id": "kergnUS2rc8s",
        "outputId": "ffacb173-beb6-4331-c2d6-8dcca903d311"
      },
      "source": [
        "model = Sequential()\n",
        "model.add(layers.Conv2D(64, \n",
        "                  kernel_size=3, \n",
        "                  activation='relu', \n",
        "                  input_shape=(3,21,1), \n",
        "                  padding='same'))\n",
        "model.add(layers.BatchNormalization(1))\n",
        "model.add(layers.Conv2D(64, \n",
        "                  kernel_size=3, \n",
        "                  activation='relu', \n",
        "                  padding='same'))\n",
        "model.add(layers.BatchNormalization(1))\n",
        "model.add(layers.MaxPooling2D(2,2))\n",
        "model.add(layers.Flatten())\n",
        "model.add(Dense(512, activation = 'relu')) \n",
        "model.add(Dense(1, activation='sigmoid'))\n",
        "model.compile(optimizer='rmsprop', loss='binary_crossentropy', metrics = ['acc'])\n",
        "history = model.fit(train_x, train_y, epochs= 60, batch_size = 16, validation_split = 0.2, callbacks=[callbacks.EarlyStopping(monitor='val_loss', patience = 5), callbacks.LearningRateScheduler(learningRate)] )\n",
        "plotting_training(history)"
      ],
      "execution_count": null,
      "outputs": [
        {
          "output_type": "stream",
          "text": [
            "Epoch 1/60\n",
            "4712/4712 [==============================] - 42s 5ms/step - loss: 0.4565 - acc: 0.7900 - val_loss: 0.1652 - val_acc: 0.9338\n",
            "Epoch 2/60\n",
            "4712/4712 [==============================] - 26s 6ms/step - loss: 0.1476 - acc: 0.9459 - val_loss: 0.0896 - val_acc: 0.9702\n",
            "Epoch 3/60\n",
            "4712/4712 [==============================] - 25s 5ms/step - loss: 0.0951 - acc: 0.9667 - val_loss: 0.0757 - val_acc: 0.9710\n",
            "Epoch 4/60\n",
            "4712/4712 [==============================] - 26s 5ms/step - loss: 0.0724 - acc: 0.9765 - val_loss: 0.0452 - val_acc: 0.9862\n",
            "Epoch 5/60\n",
            "4712/4712 [==============================] - 25s 5ms/step - loss: 0.0557 - acc: 0.9822 - val_loss: 0.0382 - val_acc: 0.9886\n",
            "Epoch 6/60\n",
            "4712/4712 [==============================] - 26s 5ms/step - loss: 0.0453 - acc: 0.9858 - val_loss: 0.0391 - val_acc: 0.9903\n",
            "Epoch 7/60\n",
            "4712/4712 [==============================] - 25s 5ms/step - loss: 0.0389 - acc: 0.9874 - val_loss: 0.0437 - val_acc: 0.9871\n",
            "Epoch 8/60\n",
            "4712/4712 [==============================] - 25s 5ms/step - loss: 0.0336 - acc: 0.9898 - val_loss: 0.0465 - val_acc: 0.9878\n",
            "Epoch 9/60\n",
            "4712/4712 [==============================] - 25s 5ms/step - loss: 0.0274 - acc: 0.9915 - val_loss: 0.0318 - val_acc: 0.9920\n",
            "Epoch 10/60\n",
            "4712/4712 [==============================] - 26s 6ms/step - loss: 0.0279 - acc: 0.9917 - val_loss: 0.0423 - val_acc: 0.9883\n",
            "Epoch 11/60\n",
            "4712/4712 [==============================] - 27s 6ms/step - loss: 0.0223 - acc: 0.9931 - val_loss: 0.0299 - val_acc: 0.9913\n",
            "Epoch 12/60\n",
            "4712/4712 [==============================] - 26s 6ms/step - loss: 0.0185 - acc: 0.9944 - val_loss: 0.0285 - val_acc: 0.9926\n",
            "Epoch 13/60\n",
            "4712/4712 [==============================] - 26s 5ms/step - loss: 0.0137 - acc: 0.9963 - val_loss: 0.0302 - val_acc: 0.9929\n",
            "Epoch 14/60\n",
            "4712/4712 [==============================] - 26s 6ms/step - loss: 0.0138 - acc: 0.9961 - val_loss: 0.0217 - val_acc: 0.9956\n",
            "Epoch 15/60\n",
            "4712/4712 [==============================] - 25s 5ms/step - loss: 0.0110 - acc: 0.9971 - val_loss: 0.0302 - val_acc: 0.9941\n",
            "Epoch 16/60\n",
            "4712/4712 [==============================] - 26s 5ms/step - loss: 0.0097 - acc: 0.9974 - val_loss: 0.0240 - val_acc: 0.9952\n",
            "Epoch 17/60\n",
            "4712/4712 [==============================] - 26s 6ms/step - loss: 0.0086 - acc: 0.9978 - val_loss: 0.0211 - val_acc: 0.9961\n",
            "Epoch 18/60\n",
            "4712/4712 [==============================] - 26s 5ms/step - loss: 0.0082 - acc: 0.9981 - val_loss: 0.0257 - val_acc: 0.9956\n",
            "Epoch 19/60\n",
            "4712/4712 [==============================] - 27s 6ms/step - loss: 0.0080 - acc: 0.9981 - val_loss: 0.0298 - val_acc: 0.9947\n",
            "Epoch 20/60\n",
            "4712/4712 [==============================] - 26s 6ms/step - loss: 0.0060 - acc: 0.9986 - val_loss: 0.0396 - val_acc: 0.9938\n",
            "Epoch 21/60\n",
            "4712/4712 [==============================] - 26s 5ms/step - loss: 0.0061 - acc: 0.9984 - val_loss: 0.0319 - val_acc: 0.9944\n",
            "Epoch 22/60\n",
            "4712/4712 [==============================] - 25s 5ms/step - loss: 0.0053 - acc: 0.9989 - val_loss: 0.0255 - val_acc: 0.9956\n"
          ],
          "name": "stdout"
        },
        {
          "output_type": "display_data",
          "data": {
            "image/png": "[encoded data removed]",
            "text/plain": [
              "<Figure size 432x288 with 1 Axes>"
            ]
          },
          "metadata": {
            "tags": [],
            "needs_background": "light"
          }
        },
        {
          "output_type": "display_data",
          "data": {
            "image/png": "[encoded data removed]",
            "text/plain": [
              "<Figure size 432x288 with 1 Axes>"
            ]
          },
          "metadata": {
            "tags": [],
            "needs_background": "light"
          }
        }
      ]
    },
    {
      "cell_type": "code",
      "metadata": {
        "id": "ID6yopikqpwP",
        "colab": {
          "base_uri": "https://localhost:8080/"
        },
        "outputId": "0478a51a-9c90-464d-edff-9e74a034bd7c"
      },
      "source": [
        "results = model.evaluate(test_x, test_y, batch_size = 16)\n",
        "print(\"test loss, test acc: \", results)\n",
        "model.save(\"/content/drive/MyDrive/Colab Notebooks/projectModelCNN.h5\")"
      ],
      "execution_count": null,
      "outputs": [
        {
          "output_type": "stream",
          "text": [
            "737/737 [==============================] - 2s 3ms/step - loss: 0.0219 - acc: 0.9968\n",
            "test loss, test acc:  [0.02194555662572384, 0.9967736601829529]\n"
          ],
          "name": "stdout"
        }
      ]
    },
    {
      "cell_type": "code",
      "metadata": {
        "id": "iiguSlB6LZtM"
      },
      "source": [
        "# let's try XGBoost\n",
        "from xgboost import XGBClassifier\n",
        "from sklearn.model_selection import train_test_split\n",
        "from sklearn.metrics import accuracy_score\n",
        "X = newData.iloc[:, :-1]\n",
        "Y = newData.iloc[:, -1]\n",
        "test_size = 0.3333\n",
        "\n",
        "x_train, x_test, y_train, y_test = train_test_split(X, Y, test_size=test_size,random_state=7)\n"
      ],
      "execution_count": 16,
      "outputs": []
    },
    {
      "cell_type": "code",
      "metadata": {
        "id": "DeOou29FM1Q9"
      },
      "source": [
        "model = XGBClassifier(n_estimators=500, max_depth=5, learning_rate=0.1, verbosity=1, reg_lambda=5, random_state=7)\n",
        "model.fit(x_train, y_train,  verbose=True)\n",
        "y_pred = model.predict(x_test)"
      ],
      "execution_count": 25,
      "outputs": []
    },
    {
      "cell_type": "code",
      "metadata": {
        "colab": {
          "base_uri": "https://localhost:8080/"
        },
        "id": "JKgtfwfINcZQ",
        "outputId": "ce3d18a0-667a-4116-ad32-9e9df96b74b9"
      },
      "source": [
        "from sklearn.metrics import accuracy_score\n",
        "predictions = [round(value) for value in y_pred]\n",
        "accuracy = accuracy_score(y_test, predictions)\n",
        "print(\"Accuracy: %.2f%%\" % (accuracy * 100.0))"
      ],
      "execution_count": 26,
      "outputs": [
        {
          "output_type": "stream",
          "text": [
            "Accuracy: 99.54%\n"
          ],
          "name": "stdout"
        }
      ]
    },
    {
      "cell_type": "code",
      "metadata": {
        "id": "80UDw_CESrVP"
      },
      "source": [
        "model.save_model(\"/content/drive/MyDrive/Colab Notebooks/projectXGB.h5\")"
      ],
      "execution_count": 28,
      "outputs": []
    }
  ]
}